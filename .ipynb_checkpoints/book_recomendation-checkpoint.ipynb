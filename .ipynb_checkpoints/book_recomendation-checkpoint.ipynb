{
 "cells": [
  {
   "cell_type": "code",
   "execution_count": 1,
   "id": "330413a3",
   "metadata": {},
   "outputs": [],
   "source": [
    "import numpy as np\n",
    "import pandas as pd\n",
    "from scipy.sparse import csr_matrix\n",
    "from sklearn.neighbors import NearestNeighbors\n",
    "import matplotlib.pyplot as plt\n",
    "from scipy.sparse import csr_matrix"
   ]
  },
  {
   "cell_type": "code",
   "execution_count": 2,
   "id": "a9a5f71e",
   "metadata": {},
   "outputs": [],
   "source": [
    "# Veri dosyalarını alıyoruz\n",
    "books_filename = 'book-crossings/BX-Books.csv'\n",
    "ratings_filename = 'book-crossings/BX-Book-Ratings.csv'\n",
    "users_filename = \"book-crossings/BX-Users.csv\""
   ]
  },
  {
   "cell_type": "code",
   "execution_count": 3,
   "id": "1e3d1d4b",
   "metadata": {},
   "outputs": [],
   "source": [
    "df_books = pd.read_csv(\n",
    "    books_filename,\n",
    "    encoding = \"ISO-8859-1\",\n",
    "    sep=\";\",\n",
    "    header=0,\n",
    "    names=['bookId', 'title', 'author'],\n",
    "    usecols=['bookId', 'title', 'author'],\n",
    "    dtype={'bookId': 'str', 'title': 'str', 'author': 'str'})\n",
    "\n",
    "df_ratings = pd.read_csv(\n",
    "    ratings_filename,\n",
    "    encoding = \"ISO-8859-1\",\n",
    "    sep=\";\",\n",
    "    header=0,\n",
    "    names=['userId', 'bookId', 'rating'],\n",
    "    usecols=['userId', 'bookId', 'rating'],\n",
    "    dtype={'userId': 'int32', 'bookId': 'str', 'rating': 'float32'})"
   ]
  },
  {
   "cell_type": "code",
   "execution_count": 5,
   "id": "c375c3f2",
   "metadata": {},
   "outputs": [],
   "source": [
    "user_ratingCount = (df_ratings.\n",
    "     groupby(by = ['userId'])['rating'].\n",
    "     count().\n",
    "     reset_index().\n",
    "     rename(columns = {'rating': 'totalRatingCount'})\n",
    "     [['userId', 'totalRatingCount']]\n",
    ")"
   ]
  },
  {
   "cell_type": "code",
   "execution_count": 6,
   "id": "bd07f215",
   "metadata": {},
   "outputs": [],
   "source": [
    "# Kaldırılacak kullanıcıları belirleme\n",
    "users_to_remove = user_ratingCount.query('totalRatingCount > 200').userId.tolist()"
   ]
  },
  {
   "cell_type": "code",
   "execution_count": 7,
   "id": "156e3626",
   "metadata": {},
   "outputs": [],
   "source": [
    "# bookId üzerinden raiting ve books birleştirme\n",
    "df = pd.merge(df_ratings,df_books,on='bookId')"
   ]
  },
  {
   "cell_type": "code",
   "execution_count": 8,
   "id": "1e48e8a2",
   "metadata": {},
   "outputs": [],
   "source": [
    "#vtotalRatingCount oluşturuyoruz\n",
    "book_ratingCount = (df.\n",
    "     groupby(by = ['title'])['rating'].\n",
    "     count().\n",
    "     reset_index().\n",
    "     rename(columns = {'rating': 'totalRatingCount'})\n",
    "     [['title', 'totalRatingCount']]\n",
    "    )\n",
    "\n",
    "rating_with_totalRatingCount = df.merge(book_ratingCount, left_on = 'title', right_on = 'title', how = 'left')\n",
    "pd.set_option('display.float_format', lambda x: '%.3f' % x)"
   ]
  },
  {
   "cell_type": "code",
   "execution_count": 9,
   "id": "d8f7dbf2",
   "metadata": {},
   "outputs": [],
   "source": [
    "# 100'den az raiting'e sahip kitapları kaldırıyoruz\n",
    "rating_popular_movie = rating_with_totalRatingCount.query('totalRatingCount > 100')"
   ]
  },
  {
   "cell_type": "code",
   "execution_count": 10,
   "id": "836c8236",
   "metadata": {},
   "outputs": [],
   "source": [
    "# 200 rating'den az kullanıcıları dataset'den çıkartıyoruz\n",
    "rating_popular_movie = rating_popular_movie[rating_popular_movie['userId'].isin(users_to_remove)]"
   ]
  },
  {
   "cell_type": "code",
   "execution_count": 12,
   "id": "edd32bd3",
   "metadata": {},
   "outputs": [],
   "source": [
    "# pivot tablosu ve matrix oluşturma\n",
    "book_features_df = rating_popular_movie.pivot_table(index='title',columns='userId',values='rating').fillna(0)\n",
    "book_features_df_matrix = csr_matrix(book_features_df.values)"
   ]
  },
  {
   "cell_type": "code",
   "execution_count": 14,
   "id": "2fa2228c",
   "metadata": {},
   "outputs": [],
   "source": [
    "# Önerilen kitap döndürme fonksiyonu\n",
    "\n",
    "def get_recommends(book = \"\"):\n",
    "    model_knn = NearestNeighbors(metric = 'cosine', n_neighbors=5, algorithm='auto')\n",
    "    model_knn.fit(book_features_df_matrix)\n",
    "\n",
    "    for query_index in range(len(book_features_df)):\n",
    "        if book_features_df.index[query_index] == book:\n",
    "            break\n",
    "\n",
    "    ret = [book_features_df.index[query_index], []]\n",
    "    distances, indices = model_knn.kneighbors(book_features_df.iloc[query_index,:].values.reshape(1, -1))\n",
    "\n",
    "    for i in range(1, len(distances.flatten())):\n",
    "        ret[1].insert(0, [book_features_df.index[indices.flatten()[i]], distances.flatten()[i]])\n",
    "    return ret"
   ]
  },
  {
   "cell_type": "code",
   "execution_count": 15,
   "id": "2e2f20b2",
   "metadata": {
    "scrolled": true
   },
   "outputs": [
    {
     "name": "stdout",
     "output_type": "stream",
     "text": [
      "[\"Where the Heart Is (Oprah's Book Club (Paperback))\", [['The Weight of Water', 0.77085835], ['I Know This Much Is True', 0.7529293], ['The Lovely Bones: A Novel', 0.7230184], ['Blue Diary', 0.71828747]]]\n",
      "\n",
      "[\"I'll Be Seeing You\", 'The Weight of Water', 'The Surgeon', 'I Know This Much Is True']\n",
      "[0.8, 0.77, 0.77, 0.77]\n",
      "You passed the challenge! 🎉🎉🎉🎉🎉\n"
     ]
    }
   ],
   "source": [
    "# Test \n",
    "\n",
    "def test_book_recommendation():\n",
    "  test_pass = True\n",
    "  recommends = get_recommends(\"Where the Heart Is (Oprah's Book Club (Paperback))\")\n",
    "  if recommends[0] != \"Where the Heart Is (Oprah's Book Club (Paperback))\":\n",
    "    test_pass = False\n",
    "\n",
    "  print(recommends)\n",
    "  print()\n",
    "\n",
    "  recommended_books = [\"I'll Be Seeing You\", 'The Weight of Water', 'The Surgeon', 'I Know This Much Is True']\n",
    "  recommended_books_dist = [0.8, 0.77, 0.77, 0.77]\n",
    "\n",
    "  print(recommended_books)\n",
    "  print(recommended_books_dist)\n",
    "\n",
    "  for i in range(2):\n",
    "    if recommends[1][i][0] not in recommended_books:\n",
    "      test_pass = False\n",
    "    if abs(recommends[1][i][1] - recommended_books_dist[i]) >= 0.05:\n",
    "      test_pass = False\n",
    "  if test_pass:\n",
    "    print(\"You passed the challenge! 🎉🎉🎉🎉🎉\")\n",
    "  else:\n",
    "    print(\"You havn't passed yet. Keep trying!\")\n",
    "\n",
    "test_book_recommendation()"
   ]
  },
  {
   "cell_type": "code",
   "execution_count": null,
   "id": "35899784",
   "metadata": {},
   "outputs": [],
   "source": []
  }
 ],
 "metadata": {
  "kernelspec": {
   "display_name": "Python 3 (ipykernel)",
   "language": "python",
   "name": "python3"
  },
  "language_info": {
   "codemirror_mode": {
    "name": "ipython",
    "version": 3
   },
   "file_extension": ".py",
   "mimetype": "text/x-python",
   "name": "python",
   "nbconvert_exporter": "python",
   "pygments_lexer": "ipython3",
   "version": "3.9.11"
  }
 },
 "nbformat": 4,
 "nbformat_minor": 5
}
